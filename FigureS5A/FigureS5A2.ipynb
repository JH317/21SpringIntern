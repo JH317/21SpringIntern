{
 "cells": [
  {
   "cell_type": "code",
   "execution_count": 6,
   "id": "referenced-lodging",
   "metadata": {},
   "outputs": [
    {
     "name": "stdout",
     "output_type": "stream",
     "text": [
      "[['ENSMUST00000162897.2', 10443], ['ENSMUST00000159265.2', 9109], ['ENSMUST00000070533.5', 457016]]\n"
     ]
    }
   ],
   "source": [
    "transDict = {}\n",
    "file =open(\"/qbio/nest/prom317/tutorial/references/GRCm39.genome.gtf\", 'r') \n",
    "lines = file.readlines() \n",
    "for line in lines:\n",
    "    if line.startswith(\"#\"): \n",
    "        continue \n",
    "    else: \n",
    "        linesep = line.split('\\t') \n",
    "        gene_id = linesep[8].split(\";\")[0].split(\" \")[1][1:-1] \n",
    "        if linesep[2] == \"transcript\":\n",
    "            transcript_id = linesep[8].split(\";\")[1].split(\" \")[2][1:-1]\n",
    "            start = linesep[3]\n",
    "            end = linesep[4]\n",
    "            length = int(end) - int(start)\n",
    "            try:\n",
    "                transDict[gene_id].append([transcript_id, length])\n",
    "            except KeyError:\n",
    "                transDict[gene_id] = [[transcript_id, length]]\n",
    "print(transDict[\"ENSMUSG00000051951.6\"])"
   ]
  },
  {
   "cell_type": "code",
   "execution_count": 8,
   "id": "chemical-amendment",
   "metadata": {},
   "outputs": [],
   "source": [
    "longestIsoform = []\n",
    "for i in transDict.keys():\n",
    "    nxList = transDict[i]\n",
    "    if len(nxList) == 1:\n",
    "        longestIsoform.append(nxList[0][0])\n",
    "    else:\n",
    "        maxIdx = 0\n",
    "        for j in range(len(nxList)):\n",
    "            if nxList[j][1] > nxList[maxIdx][1]:\n",
    "                maxIdx = j\n",
    "        longestIsoform.append(nxList[maxIdx][0])"
   ]
  },
  {
   "cell_type": "code",
   "execution_count": 9,
   "id": "defensive-treasury",
   "metadata": {},
   "outputs": [],
   "source": [
    "import pickle\n",
    "with open('longestIsoform.txt', 'wb') as f:\n",
    "    pickle.dump(longestIsoform, f)\n",
    "f.close()"
   ]
  },
  {
   "cell_type": "code",
   "execution_count": null,
   "id": "logical-spell",
   "metadata": {},
   "outputs": [],
   "source": []
  }
 ],
 "metadata": {
  "kernelspec": {
   "display_name": "Python 3",
   "language": "python",
   "name": "python3"
  },
  "language_info": {
   "codemirror_mode": {
    "name": "ipython",
    "version": 3
   },
   "file_extension": ".py",
   "mimetype": "text/x-python",
   "name": "python",
   "nbconvert_exporter": "python",
   "pygments_lexer": "ipython3",
   "version": "3.7.10"
  }
 },
 "nbformat": 4,
 "nbformat_minor": 5
}
