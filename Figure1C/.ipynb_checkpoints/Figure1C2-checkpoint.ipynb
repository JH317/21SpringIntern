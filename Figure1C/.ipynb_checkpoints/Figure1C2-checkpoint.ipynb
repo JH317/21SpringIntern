{
 "cells": [
  {
   "cell_type": "code",
   "execution_count": 15,
   "id": "primary-poison",
   "metadata": {},
   "outputs": [],
   "source": [
    "queryDic = {}\n",
    "file = open('/qbio/prom317/tutorial/transCutAlignment/CLIP_35L33G/Aligned.out.sam', 'r')\n",
    "lines = file.readlines()\n",
    "for line in lines:\n",
    "    if line.startswith(\"SRR\"):\n",
    "        if \"ENSMUST00000083506.3\" in line:\n",
    "            lineSep = line.split('\\t')\n",
    "            queryName = lineSep[0]\n",
    "            pos = int(lineSep[3])\n",
    "            cigar = lineSep[5]\n",
    "            seq = lineSep[9]\n",
    "            queryDic[queryName] = [pos, cigar, seq]"
   ]
  },
  {
   "cell_type": "code",
   "execution_count": 18,
   "id": "metric-robertson",
   "metadata": {},
   "outputs": [],
   "source": [
    "import re\n",
    "p = re.compile(\"[0-9]+M\")\n",
    "for i in queryDic.keys():\n",
    "    cigar = queryDic[i][1]\n",
    "    m=p.search(cigar)\n",
    "    if m:\n",
    "        newCigar = m.group()\n",
    "        cigarList = cigar.split(newCigar)\n",
    "        cigarList.insert(1, newCigar)\n",
    "        newCigarList = []\n",
    "        for j in range(len(cigarList)):\n",
    "            if cigarList[j]:\n",
    "                newCigarList.append(cigarList[j])\n",
    "        queryDic[i].append(newCigarList)"
   ]
  },
  {
   "cell_type": "code",
   "execution_count": 41,
   "id": "insured-blues",
   "metadata": {},
   "outputs": [],
   "source": [
    "baseMatchDic = {}\n",
    "for i in range(1, 89):\n",
    "    baseMatchDic[i] = [0,0,0,0]\n",
    "\n",
    "refseq = \"CCAGGCTGAGGTAGTAGTTTGTACAGTTTGAGGGTCTATGATACCACCCGGTACAGGAGATAACTGTACAGGCCACTGCCTTGCCAGG\"\n",
    "for i in queryDic.keys():\n",
    "    cigarList = queryDic[i][3]\n",
    "    querySeq = queryDic[i][2]\n",
    "    refCount = queryDic[i][0]-1\n",
    "    queryCount = 0\n",
    "    if cigarList[0].endswith(\"S\"):\n",
    "        queryCount += int(cigarList[0][:-1])\n",
    "        length = int(cigarList[1][:-1])\n",
    "    else:\n",
    "        length = int(cigarList[0][:-1])\n",
    "    for j in range(length):\n",
    "        if querySeq[queryCount+j] == \"A\":\n",
    "            baseMatchDic[refCount+j+1][0] +=1\n",
    "        elif querySeq[queryCount+j] == \"T\":\n",
    "            baseMatchDic[refCount+j+1][1] +=1\n",
    "        elif querySeq[queryCount+j] == \"G\":\n",
    "            baseMatchDic[refCount+j+1][2] +=1\n",
    "        elif querySeq[queryCount+j] == \"C\":\n",
    "            baseMatchDic[refCount+j+1][3] +=1"
   ]
  },
  {
   "cell_type": "code",
   "execution_count": 47,
   "id": "united-window",
   "metadata": {},
   "outputs": [
    {
     "name": "stdout",
     "output_type": "stream",
     "text": [
      "0.9182958340544896\n"
     ]
    }
   ],
   "source": [
    "import numpy as np\n",
    "\n",
    "\n",
    "def entropy(x):\n",
    "    count = 0\n",
    "    for i in range(len(x)):\n",
    "        count += x[i]\n",
    "    for i in range(len(x)):\n",
    "        x[i] = x[i]/count\n",
    "    shEnt = 0\n",
    "    for i in range(len(x)):\n",
    "        if x[i] != 0:\n",
    "            shEnt += -1 * x[i] * float(np.log2(x[i]))\n",
    "    return shEnt"
   ]
  },
  {
   "cell_type": "code",
   "execution_count": 49,
   "id": "verified-prize",
   "metadata": {},
   "outputs": [
    {
     "name": "stdout",
     "output_type": "stream",
     "text": [
      "[0.0, 0.0, 0.0, 0.0, 0.0, 0.0, 0.0, 0.0, 0.0, 0.0, 0.0, 0.0, 0.0, 0.0, 0.0, 0.0, 0.0, 0.0, 0.0, 0.0, 0.0, 0.0, 0.0, 0.0, 0.0, 0.0, 0.0, 0.0, 0.0, 0.0, 0.16866093149667025, 0.0, 0.0, 0.0, 0.0, 0.0, 0.0, 0.0, 0.0, 0.0, 0.0, 0.0, 0.0, 0.0, 0.0, 0.0, 0.0, 0.0, 0.0, 0.0, 0.0, 0.15935006268563445, 0.0, 0.0, 0.0, 1.3320649618769065, 0.31435586359270684, 0.0, 0.0, 0.0, 0.0, 0.0, 0.0, 0.0, 0.0, 0.0, 0.0, 0.0, 0.0, 0.0, 0.0, 0.0, 0.0, 0.0, 0.0, 0.0, 0.06385368546122085, 0.0, 0.0, 0.0, 0.0, 0.0, 0.0, 0.0, 0.0, 0.0, 0.0, 0.0]\n"
     ]
    }
   ],
   "source": [
    "shEntList = []\n",
    "for i in range(1,89):\n",
    "    data = baseMatchDic[i]\n",
    "    shEntList.append(entropy(data))\n",
    "    \n",
    "print(shEntList)"
   ]
  },
  {
   "cell_type": "code",
   "execution_count": 51,
   "id": "material-perception",
   "metadata": {},
   "outputs": [
    {
     "data": {
      "image/png": "[encoded data removed]",
      "text/plain": [
       "<Figure size 432x288 with 1 Axes>"
      ]
     },
     "metadata": {
      "needs_background": "light"
     },
     "output_type": "display_data"
    }
   ],
   "source": [
    "import matplotlib.pyplot as plt\n",
    "\n",
    "x = np.arange(88)\n",
    "plt.bar(x, shEntList)\n",
    "plt.show()"
   ]
  },
  {
   "cell_type": "code",
   "execution_count": null,
   "id": "weekly-nomination",
   "metadata": {},
   "outputs": [],
   "source": []
  }
 ],
 "metadata": {
  "kernelspec": {
   "display_name": "Python 3",
   "language": "python",
   "name": "python3"
  },
  "language_info": {
   "codemirror_mode": {
    "name": "ipython",
    "version": 3
   },
   "file_extension": ".py",
   "mimetype": "text/x-python",
   "name": "python",
   "nbconvert_exporter": "python",
   "pygments_lexer": "ipython3",
   "version": "3.7.10"
  }
 },
 "nbformat": 4,
 "nbformat_minor": 5
}
