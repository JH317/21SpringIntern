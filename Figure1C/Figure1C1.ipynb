{
 "cells": [
  {
   "cell_type": "code",
   "execution_count": 1,
   "id": "molecular-modem",
   "metadata": {},
   "outputs": [
    {
     "data": {
      "text/plain": [
       "'/qbio/prom317/tutorial/Figures/Figure1C'"
      ]
     },
     "execution_count": 1,
     "metadata": {},
     "output_type": "execute_result"
    }
   ],
   "source": [
    "pwd"
   ]
  },
  {
   "cell_type": "code",
   "execution_count": 2,
   "id": "cordless-premium",
   "metadata": {},
   "outputs": [],
   "source": [
    "opFile = open('/qbio/prom317/tutorial/references/GRCm39.transcripts.fa.cut', 'a')\n",
    "\n",
    "\n",
    "with open('/qbio/prom317/tutorial/references/GRCm39.transcripts.fa') as inpFile:\n",
    "    for line in inpFile:\n",
    "        if line.startswith('>'):\n",
    "            transcript_id = line.split(\"|\")[0]\n",
    "            opFile.write(transcript_id + '\\n');\n",
    "        else:\n",
    "            opFile.write(line)\n",
    "opFile.close()"
   ]
  },
  {
   "cell_type": "code",
   "execution_count": null,
   "id": "informational-lunch",
   "metadata": {},
   "outputs": [],
   "source": []
  }
 ],
 "metadata": {
  "kernelspec": {
   "display_name": "Python 3",
   "language": "python",
   "name": "python3"
  },
  "language_info": {
   "codemirror_mode": {
    "name": "ipython",
    "version": 3
   },
   "file_extension": ".py",
   "mimetype": "text/x-python",
   "name": "python",
   "nbconvert_exporter": "python",
   "pygments_lexer": "ipython3",
   "version": "3.7.10"
  }
 },
 "nbformat": 4,
 "nbformat_minor": 5
}
