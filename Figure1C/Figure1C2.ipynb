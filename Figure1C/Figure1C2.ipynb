{
 "cells": [
  {
   "cell_type": "code",
   "execution_count": 3,
   "id": "molecular-mainland",
   "metadata": {},
   "outputs": [],
   "source": [
    "queryDic = {}\n",
    "file = open('/qbio/prom317/tutorial/transCutAlignment/CLIP_35L33G/Aligned.out.sam', 'r')\n",
    "lines = file.readlines()\n",
    "for line in lines:\n",
    "    if line.startswith(\"SRR\"):\n",
    "        if \"ENSMUST00000083506.3\" in line:\n",
    "            lineSep = line.split('\\t')\n",
    "            queryName = lineSep[0]\n",
    "            pos = int(lineSep[3])\n",
    "            cigar = lineSep[5]\n",
    "            queryDic[queryName] = [pos, cigar]"
   ]
  },
  {
   "cell_type": "code",
   "execution_count": 10,
   "id": "popular-template",
   "metadata": {},
   "outputs": [],
   "source": [
    "import re\n",
    "p = re.compile(\"[0-9]+M\")\n",
    "for i in queryDic.keys():\n",
    "    cigar = queryDic[i][1]\n",
    "    m=p.search(cigar)\n",
    "    if m:\n",
    "        newCigar = m.group()\n",
    "        queryDic[i].append(newCigar) "
   ]
  },
  {
   "cell_type": "code",
   "execution_count": 8,
   "id": "front-recycling",
   "metadata": {},
   "outputs": [
    {
     "data": {
      "text/plain": [
       "'65M'"
      ]
     },
     "execution_count": 8,
     "metadata": {},
     "output_type": "execute_result"
    }
   ],
   "source": [
    "baseMatchDic = {}\n",
    "for i in range(1, 89):\n",
    "    baseMatchDic[i] = [0,0]\n",
    "\n",
    "refseq = \"CCAGGCTGAGGTAGTAGTTTGTACAGTTTGAGGGTCTATGATACCACCCGGTACAGGAGATAACTGTACAGGCCACTGCCTTGCCAGG\"\n",
    "for i in queryDic.keys():\n",
    "    "
   ]
  },
  {
   "cell_type": "code",
   "execution_count": null,
   "id": "aware-particle",
   "metadata": {},
   "outputs": [],
   "source": []
  }
 ],
 "metadata": {
  "kernelspec": {
   "display_name": "Python 3",
   "language": "python",
   "name": "python3"
  },
  "language_info": {
   "codemirror_mode": {
    "name": "ipython",
    "version": 3
   },
   "file_extension": ".py",
   "mimetype": "text/x-python",
   "name": "python",
   "nbconvert_exporter": "python",
   "pygments_lexer": "ipython3",
   "version": "3.7.10"
  }
 },
 "nbformat": 4,
 "nbformat_minor": 5
}
