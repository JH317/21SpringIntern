{
 "cells": [
  {
   "cell_type": "code",
   "execution_count": 6,
   "id": "running-report",
   "metadata": {},
   "outputs": [],
   "source": [
    "refSeq = {}\n",
    "refSeqFile = open('/qbio/prom317/tutorial/references/GRCm39.transcripts.fa.cut', 'r')\n",
    "lines = refSeqFile.readlines()\n",
    "transcriptId=\"\"\n",
    "for line in lines:\n",
    "    if line.startswith(\">\"):\n",
    "        transcriptId = line[1:-1]\n",
    "        refSeq[transcriptId] = \"\"\n",
    "    else:\n",
    "        refSeq[transcriptId] += line[:-1]"
   ]
  },
  {
   "cell_type": "code",
   "execution_count": 7,
   "id": "arranged-mexican",
   "metadata": {},
   "outputs": [],
   "source": [
    "samData={}\n",
    "samFile = open('/qbio/prom317/tutorial/transCutAlignment/CLIP_35L33G/Aligned.out.sam', 'r')\n",
    "lines = samFile.readlines()\n",
    "for line in lines:\n",
    "    if line.startswith(\"SRR\"):\n",
    "        linesep = line.split(\"\\t\")\n",
    "        queryName = linesep[0]\n",
    "        refSeqName = linesep[2]\n",
    "        pos = int(linesep[3])\n",
    "        cigar = linesep[5]\n",
    "        querySeq = linesep[9]\n",
    "        samData[queryName] = [refSeqName, pos, cigar, querySeq]"
   ]
  },
  {
   "cell_type": "code",
   "execution_count": 8,
   "id": "accepted-alignment",
   "metadata": {},
   "outputs": [],
   "source": [
    "import re\n",
    "for i in samData.keys():\n",
    "    cigarList=[]\n",
    "    cigar = samData[i][2]\n",
    "    while(cigar):\n",
    "        matchCigar = re.match(\"[0-9]+[A-Z]+\", cigar)\n",
    "        cigarList.append(matchCigar.group())\n",
    "        cigar = re.sub(pattern = matchCigar.group(), repl = \"\", count = 1, string = cigar)\n",
    "    samData[i][2] = cigarList"
   ]
  },
  {
   "cell_type": "code",
   "execution_count": 5,
   "id": "eleven-planner",
   "metadata": {},
   "outputs": [
    {
     "name": "stdout",
     "output_type": "stream",
     "text": [
      "['78S', '89M', '7I', '6D', '90M', '32S']\n"
     ]
    }
   ],
   "source": [
    "deletionData = {}\n",
    "for i in samData.key():\n",
    "    samLine = samData[i]\n",
    "    refPos = samLine[1]\n",
    "    refSequence = refSeq[samLine[0]]\n",
    "    querySequence = samLine[3]\n",
    "    cigar = samLine[2]\n",
    "    queryCount = 0\n",
    "    while queryCount <= len(querySequence):\n",
    "        "
   ]
  },
  {
   "cell_type": "code",
   "execution_count": 25,
   "id": "italian-figure",
   "metadata": {},
   "outputs": [
    {
     "name": "stdout",
     "output_type": "stream",
     "text": [
      "[(0, 33), (1, 34), (2, 35), (3, 36), (4, 37), (5, 38), (6, 39), (7, 40), (8, 41), (9, 42), (10, 43), (11, 44), (12, 45), (13, 46), (14, 47), (15, 48), (16, 49), (17, 50), (18, 51), (19, 52), (20, 53), (21, 54), (22, 55), (23, 56), (24, 57), (25, 58), (26, 59), (27, 60), (28, 61), (29, 62), (30, 63), (31, 64), (32, 65), (33, 66), (34, 67), (35, 68), (36, 69), (37, 70), (38, 71), (39, 72), (40, 73), (41, 74), (42, 75), (43, 76), (44, 77), (45, 78), (46, 79), (47, 80), (48, 81), (49, 82), (50, 83)]\n"
     ]
    }
   ],
   "source": [
    "import pysam\n",
    "samData = pysam.AlignmentFile('/qbio/prom317/tutorial/transCutAlignment/CLIP_35L33G/Aligned.out.sorted.bam', 'rb')\n",
    "iter = samData.fetch(\"ENSMUST00000083506.3\", 50, 60)\n",
    "for x in iter:\n",
    "    if x.query_name == \"SRR458758.2.8708628\":\n",
    "        print(str(x.get_aligned_pairs()))"
   ]
  }
 ],
 "metadata": {
  "kernelspec": {
   "display_name": "Python 3",
   "language": "python",
   "name": "python3"
  },
  "language_info": {
   "codemirror_mode": {
    "name": "ipython",
    "version": 3
   },
   "file_extension": ".py",
   "mimetype": "text/x-python",
   "name": "python",
   "nbconvert_exporter": "python",
   "pygments_lexer": "ipython3",
   "version": "3.7.10"
  }
 },
 "nbformat": 4,
 "nbformat_minor": 5
}
